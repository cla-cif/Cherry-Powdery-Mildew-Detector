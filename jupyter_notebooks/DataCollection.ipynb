{
  "cells": [
    {
      "attachments": {},
      "cell_type": "markdown",
      "metadata": {
        "id": "0aStgWSO0E0E"
      },
      "source": [
        "# **Data Collection**"
      ]
    },
    {
      "attachments": {},
      "cell_type": "markdown",
      "metadata": {
        "id": "1eLEkw5O0ECa"
      },
      "source": [
        "## Objectives\n",
        "* Import packages\n",
        "* Set working directory\n",
        "* Fetch data from Kaggle and prepare it for further processing.\n",
        "* Clean data\n",
        "* Split data\n",
        "\n",
        "## Inputs\n",
        "\n",
        "Kaggle JSON file - authentication token\n",
        "\n",
        "## Outputs\n",
        "\n",
        "Once the dataset is downloaded from Kaggle, it will have this structure: \n",
        "```bash\n",
        ". \n",
        "├── inputs \n",
        "│   └──cherryleaves_dataset \n",
        "│      └──cherry-leaves                                     \n",
        "│           ├── test\n",
        "│           │   ├── healthy\n",
        "│           │   └── powdery_mildew                   \n",
        "│           ├── train\n",
        "│           │   ├── healthy\n",
        "│           │   └── powdery_mildew          \n",
        "│           └── validation\n",
        "│               ├── healthy\n",
        "│               └── powdery_mildew                 \n",
        "└── ...\n",
        "```\n",
        "## Comments | Insights | Conclusions\n",
        "\n",
        "These steps are necessary to fetch the data, clean it and divide it in subsets for the purposes of machine learning. \n",
        "Next step will be Data Visualization to understand the data and discover patterns."
      ]
    },
    {
      "cell_type": "markdown",
      "metadata": {
        "id": "9uWZXH9LwoQg"
      },
      "source": [
        "---"
      ]
    },
    {
      "attachments": {},
      "cell_type": "markdown",
      "metadata": {},
      "source": [
        "# Import packages"
      ]
    },
    {
      "cell_type": "code",
      "execution_count": 1,
      "metadata": {},
      "outputs": [
        {
          "name": "stdout",
          "output_type": "stream",
          "text": [
            "Requirement already satisfied: numpy in /workspace/.pip-modules/lib/python3.8/site-packages (from -r /workspace/Detection-Cherry-Powdery-Mildew/requirements.txt (line 1)) (1.19.2)\n",
            "Requirement already satisfied: pandas in /workspace/.pip-modules/lib/python3.8/site-packages (from -r /workspace/Detection-Cherry-Powdery-Mildew/requirements.txt (line 2)) (1.1.2)\n",
            "Requirement already satisfied: matplotlib in /workspace/.pip-modules/lib/python3.8/site-packages (from -r /workspace/Detection-Cherry-Powdery-Mildew/requirements.txt (line 3)) (3.3.1)\n",
            "Requirement already satisfied: seaborn in /workspace/.pip-modules/lib/python3.8/site-packages (from -r /workspace/Detection-Cherry-Powdery-Mildew/requirements.txt (line 4)) (0.11.0)\n",
            "Requirement already satisfied: plotly in /workspace/.pip-modules/lib/python3.8/site-packages (from -r /workspace/Detection-Cherry-Powdery-Mildew/requirements.txt (line 5)) (5.12.0)\n",
            "Requirement already satisfied: kaleido in /workspace/.pip-modules/lib/python3.8/site-packages (from -r /workspace/Detection-Cherry-Powdery-Mildew/requirements.txt (line 6)) (0.2.1)\n",
            "Requirement already satisfied: streamlit in /workspace/.pip-modules/lib/python3.8/site-packages (from -r /workspace/Detection-Cherry-Powdery-Mildew/requirements.txt (line 8)) (1.18.1)\n",
            "Requirement already satisfied: scikit-learn in /workspace/.pip-modules/lib/python3.8/site-packages (from -r /workspace/Detection-Cherry-Powdery-Mildew/requirements.txt (line 10)) (1.2.1)\n",
            "Requirement already satisfied: tensorflow-cpu in /workspace/.pip-modules/lib/python3.8/site-packages (from -r /workspace/Detection-Cherry-Powdery-Mildew/requirements.txt (line 11)) (2.6.0)\n",
            "Requirement already satisfied: keras in /workspace/.pip-modules/lib/python3.8/site-packages (from -r /workspace/Detection-Cherry-Powdery-Mildew/requirements.txt (line 12)) (2.6.0)\n",
            "Requirement already satisfied: python-dateutil>=2.7.3 in /home/gitpod/.pyenv/versions/3.8.12/lib/python3.8/site-packages (from pandas->-r /workspace/Detection-Cherry-Powdery-Mildew/requirements.txt (line 2)) (2.8.2)\n",
            "Requirement already satisfied: pytz>=2017.2 in /workspace/.pip-modules/lib/python3.8/site-packages (from pandas->-r /workspace/Detection-Cherry-Powdery-Mildew/requirements.txt (line 2)) (2022.7)\n",
            "Requirement already satisfied: kiwisolver>=1.0.1 in /workspace/.pip-modules/lib/python3.8/site-packages (from matplotlib->-r /workspace/Detection-Cherry-Powdery-Mildew/requirements.txt (line 3)) (1.4.4)\n",
            "Requirement already satisfied: pyparsing!=2.0.4,!=2.1.2,!=2.1.6,>=2.0.3 in /workspace/.pip-modules/lib/python3.8/site-packages (from matplotlib->-r /workspace/Detection-Cherry-Powdery-Mildew/requirements.txt (line 3)) (3.0.9)\n",
            "Requirement already satisfied: cycler>=0.10 in /workspace/.pip-modules/lib/python3.8/site-packages (from matplotlib->-r /workspace/Detection-Cherry-Powdery-Mildew/requirements.txt (line 3)) (0.11.0)\n",
            "Requirement already satisfied: pillow>=6.2.0 in /workspace/.pip-modules/lib/python3.8/site-packages (from matplotlib->-r /workspace/Detection-Cherry-Powdery-Mildew/requirements.txt (line 3)) (9.4.0)\n",
            "Requirement already satisfied: certifi>=2020.06.20 in /home/gitpod/.pyenv/versions/3.8.12/lib/python3.8/site-packages (from matplotlib->-r /workspace/Detection-Cherry-Powdery-Mildew/requirements.txt (line 3)) (2022.12.7)\n",
            "Requirement already satisfied: scipy>=1.0 in /workspace/.pip-modules/lib/python3.8/site-packages (from seaborn->-r /workspace/Detection-Cherry-Powdery-Mildew/requirements.txt (line 4)) (1.9.3)\n",
            "Requirement already satisfied: tenacity>=6.2.0 in /workspace/.pip-modules/lib/python3.8/site-packages (from plotly->-r /workspace/Detection-Cherry-Powdery-Mildew/requirements.txt (line 5)) (8.1.0)\n",
            "Requirement already satisfied: watchdog in /workspace/.pip-modules/lib/python3.8/site-packages (from streamlit->-r /workspace/Detection-Cherry-Powdery-Mildew/requirements.txt (line 8)) (2.2.1)\n",
            "Requirement already satisfied: cachetools>=4.0 in /workspace/.pip-modules/lib/python3.8/site-packages (from streamlit->-r /workspace/Detection-Cherry-Powdery-Mildew/requirements.txt (line 8)) (5.2.0)\n",
            "Requirement already satisfied: gitpython!=3.1.19 in /home/gitpod/.pyenv/versions/3.8.12/lib/python3.8/site-packages (from streamlit->-r /workspace/Detection-Cherry-Powdery-Mildew/requirements.txt (line 8)) (3.1.30)\n",
            "Requirement already satisfied: rich>=10.11.0 in /home/gitpod/.pyenv/versions/3.8.12/lib/python3.8/site-packages (from streamlit->-r /workspace/Detection-Cherry-Powdery-Mildew/requirements.txt (line 8)) (13.0.1)\n",
            "Requirement already satisfied: tornado>=6.0.3 in /home/gitpod/.pyenv/versions/3.8.12/lib/python3.8/site-packages (from streamlit->-r /workspace/Detection-Cherry-Powdery-Mildew/requirements.txt (line 8)) (6.2)\n",
            "Requirement already satisfied: requests>=2.4 in /home/gitpod/.pyenv/versions/3.8.12/lib/python3.8/site-packages (from streamlit->-r /workspace/Detection-Cherry-Powdery-Mildew/requirements.txt (line 8)) (2.28.1)\n",
            "Requirement already satisfied: pydeck>=0.1.dev5 in /workspace/.pip-modules/lib/python3.8/site-packages (from streamlit->-r /workspace/Detection-Cherry-Powdery-Mildew/requirements.txt (line 8)) (0.8.0)\n",
            "Requirement already satisfied: typing-extensions>=3.10.0.0 in /workspace/.pip-modules/lib/python3.8/site-packages (from streamlit->-r /workspace/Detection-Cherry-Powdery-Mildew/requirements.txt (line 8)) (4.5.0)\n",
            "Requirement already satisfied: pympler>=0.9 in /workspace/.pip-modules/lib/python3.8/site-packages (from streamlit->-r /workspace/Detection-Cherry-Powdery-Mildew/requirements.txt (line 8)) (1.0.1)\n",
            "Requirement already satisfied: toml in /workspace/.pip-modules/lib/python3.8/site-packages (from streamlit->-r /workspace/Detection-Cherry-Powdery-Mildew/requirements.txt (line 8)) (0.10.2)\n",
            "Requirement already satisfied: packaging>=14.1 in /home/gitpod/.pyenv/versions/3.8.12/lib/python3.8/site-packages (from streamlit->-r /workspace/Detection-Cherry-Powdery-Mildew/requirements.txt (line 8)) (22.0)\n",
            "Requirement already satisfied: protobuf<4,>=3.12 in /workspace/.pip-modules/lib/python3.8/site-packages (from streamlit->-r /workspace/Detection-Cherry-Powdery-Mildew/requirements.txt (line 8)) (3.20.3)\n",
            "Requirement already satisfied: altair>=3.2.0 in /workspace/.pip-modules/lib/python3.8/site-packages (from streamlit->-r /workspace/Detection-Cherry-Powdery-Mildew/requirements.txt (line 8)) (4.2.0)\n",
            "Requirement already satisfied: blinker>=1.0.0 in /workspace/.pip-modules/lib/python3.8/site-packages (from streamlit->-r /workspace/Detection-Cherry-Powdery-Mildew/requirements.txt (line 8)) (1.5)\n",
            "Requirement already satisfied: tzlocal>=1.1 in /workspace/.pip-modules/lib/python3.8/site-packages (from streamlit->-r /workspace/Detection-Cherry-Powdery-Mildew/requirements.txt (line 8)) (4.2)\n",
            "Requirement already satisfied: click>=7.0 in /workspace/.pip-modules/lib/python3.8/site-packages (from streamlit->-r /workspace/Detection-Cherry-Powdery-Mildew/requirements.txt (line 8)) (7.1.2)\n",
            "Requirement already satisfied: pyarrow>=4.0 in /workspace/.pip-modules/lib/python3.8/site-packages (from streamlit->-r /workspace/Detection-Cherry-Powdery-Mildew/requirements.txt (line 8)) (10.0.1)\n",
            "Requirement already satisfied: semver in /workspace/.pip-modules/lib/python3.8/site-packages (from streamlit->-r /workspace/Detection-Cherry-Powdery-Mildew/requirements.txt (line 8)) (2.13.0)\n",
            "Requirement already satisfied: validators>=0.2 in /workspace/.pip-modules/lib/python3.8/site-packages (from streamlit->-r /workspace/Detection-Cherry-Powdery-Mildew/requirements.txt (line 8)) (0.20.0)\n",
            "Requirement already satisfied: importlib-metadata>=1.4 in /home/gitpod/.pyenv/versions/3.8.12/lib/python3.8/site-packages (from streamlit->-r /workspace/Detection-Cherry-Powdery-Mildew/requirements.txt (line 8)) (6.0.0)\n",
            "Requirement already satisfied: joblib>=1.1.1 in /workspace/.pip-modules/lib/python3.8/site-packages (from scikit-learn->-r /workspace/Detection-Cherry-Powdery-Mildew/requirements.txt (line 10)) (1.2.0)\n",
            "Requirement already satisfied: threadpoolctl>=2.0.0 in /workspace/.pip-modules/lib/python3.8/site-packages (from scikit-learn->-r /workspace/Detection-Cherry-Powdery-Mildew/requirements.txt (line 10)) (3.1.0)\n",
            "Requirement already satisfied: gast==0.4.0 in /workspace/.pip-modules/lib/python3.8/site-packages (from tensorflow-cpu->-r /workspace/Detection-Cherry-Powdery-Mildew/requirements.txt (line 11)) (0.4.0)\n",
            "Requirement already satisfied: h5py~=3.1.0 in /workspace/.pip-modules/lib/python3.8/site-packages (from tensorflow-cpu->-r /workspace/Detection-Cherry-Powdery-Mildew/requirements.txt (line 11)) (3.1.0)\n",
            "Requirement already satisfied: wrapt~=1.12.1 in /workspace/.pip-modules/lib/python3.8/site-packages (from tensorflow-cpu->-r /workspace/Detection-Cherry-Powdery-Mildew/requirements.txt (line 11)) (1.12.1)\n",
            "Requirement already satisfied: astunparse~=1.6.3 in /workspace/.pip-modules/lib/python3.8/site-packages (from tensorflow-cpu->-r /workspace/Detection-Cherry-Powdery-Mildew/requirements.txt (line 11)) (1.6.3)\n",
            "Requirement already satisfied: tensorboard~=2.6 in /workspace/.pip-modules/lib/python3.8/site-packages (from tensorflow-cpu->-r /workspace/Detection-Cherry-Powdery-Mildew/requirements.txt (line 11)) (2.11.0)\n",
            "Requirement already satisfied: flatbuffers~=1.12.0 in /workspace/.pip-modules/lib/python3.8/site-packages (from tensorflow-cpu->-r /workspace/Detection-Cherry-Powdery-Mildew/requirements.txt (line 11)) (1.12)\n",
            "Requirement already satisfied: wheel~=0.35 in /home/gitpod/.pyenv/versions/3.8.12/lib/python3.8/site-packages (from tensorflow-cpu->-r /workspace/Detection-Cherry-Powdery-Mildew/requirements.txt (line 11)) (0.38.4)\n",
            "Requirement already satisfied: six~=1.15.0 in /workspace/.pip-modules/lib/python3.8/site-packages (from tensorflow-cpu->-r /workspace/Detection-Cherry-Powdery-Mildew/requirements.txt (line 11)) (1.15.0)\n",
            "Requirement already satisfied: opt-einsum~=3.3.0 in /workspace/.pip-modules/lib/python3.8/site-packages (from tensorflow-cpu->-r /workspace/Detection-Cherry-Powdery-Mildew/requirements.txt (line 11)) (3.3.0)\n",
            "Requirement already satisfied: termcolor~=1.1.0 in /workspace/.pip-modules/lib/python3.8/site-packages (from tensorflow-cpu->-r /workspace/Detection-Cherry-Powdery-Mildew/requirements.txt (line 11)) (1.1.0)\n",
            "Requirement already satisfied: grpcio<2.0,>=1.37.0 in /workspace/.pip-modules/lib/python3.8/site-packages (from tensorflow-cpu->-r /workspace/Detection-Cherry-Powdery-Mildew/requirements.txt (line 11)) (1.51.1)\n",
            "Requirement already satisfied: clang~=5.0 in /workspace/.pip-modules/lib/python3.8/site-packages (from tensorflow-cpu->-r /workspace/Detection-Cherry-Powdery-Mildew/requirements.txt (line 11)) (5.0)\n",
            "Requirement already satisfied: absl-py~=0.10 in /workspace/.pip-modules/lib/python3.8/site-packages (from tensorflow-cpu->-r /workspace/Detection-Cherry-Powdery-Mildew/requirements.txt (line 11)) (0.15.0)\n",
            "Requirement already satisfied: tensorflow-estimator~=2.6 in /workspace/.pip-modules/lib/python3.8/site-packages (from tensorflow-cpu->-r /workspace/Detection-Cherry-Powdery-Mildew/requirements.txt (line 11)) (2.11.0)\n",
            "Requirement already satisfied: google-pasta~=0.2 in /workspace/.pip-modules/lib/python3.8/site-packages (from tensorflow-cpu->-r /workspace/Detection-Cherry-Powdery-Mildew/requirements.txt (line 11)) (0.2.0)\n",
            "Collecting tensorflow-cpu\n",
            "  Downloading tensorflow_cpu-2.11.0-cp38-cp38-manylinux_2_17_x86_64.manylinux2014_x86_64.whl (221.4 MB)\n",
            "\u001b[2K     \u001b[90m━━━━━━━━━━━━━━━━━━━━━━━━━━━━━━━━━━━━━━━\u001b[0m \u001b[32m221.4/221.4 MB\u001b[0m \u001b[31m7.7 MB/s\u001b[0m eta \u001b[36m0:00:00\u001b[0m00:01\u001b[0m00:01\u001b[0m\n",
            "\u001b[?25hCollecting tensorflow-io-gcs-filesystem>=0.23.1\n",
            "  Downloading tensorflow_io_gcs_filesystem-0.30.0-cp38-cp38-manylinux_2_12_x86_64.manylinux2010_x86_64.whl (2.4 MB)\n",
            "\u001b[2K     \u001b[90m━━━━━━━━━━━━━━━━━━━━━━━━━━━━━━━━━━━━━━━━\u001b[0m \u001b[32m2.4/2.4 MB\u001b[0m \u001b[31m51.2 MB/s\u001b[0m eta \u001b[36m0:00:00\u001b[0mta \u001b[36m0:00:01\u001b[0m\n",
            "\u001b[?25hCollecting numpy\n",
            "  Downloading numpy-1.24.2-cp38-cp38-manylinux_2_17_x86_64.manylinux2014_x86_64.whl (17.3 MB)\n",
            "\u001b[2K     \u001b[90m━━━━━━━━━━━━━━━━━━━━━━━━━━━━━━━━━━━━━━━\u001b[0m \u001b[32m17.3/17.3 MB\u001b[0m \u001b[31m114.5 MB/s\u001b[0m eta \u001b[36m0:00:00\u001b[0m00:01\u001b[0m00:01\u001b[0m\n",
            "\u001b[?25hCollecting protobuf<4,>=3.12\n",
            "  Downloading protobuf-3.19.6-cp38-cp38-manylinux_2_17_x86_64.manylinux2014_x86_64.whl (1.1 MB)\n",
            "\u001b[2K     \u001b[90m━━━━━━━━━━━━━━━━━━━━━━━━━━━━━━━━━━━━━━━━\u001b[0m \u001b[32m1.1/1.1 MB\u001b[0m \u001b[31m133.0 MB/s\u001b[0m eta \u001b[36m0:00:00\u001b[0m\n",
            "\u001b[?25hCollecting absl-py>=1.0.0\n",
            "  Downloading absl_py-1.4.0-py3-none-any.whl (126 kB)\n",
            "\u001b[2K     \u001b[90m━━━━━━━━━━━━━━━━━━━━━━━━━━━━━━━━━━━━━━\u001b[0m \u001b[32m126.5/126.5 kB\u001b[0m \u001b[31m41.1 MB/s\u001b[0m eta \u001b[36m0:00:00\u001b[0m\n",
            "\u001b[?25hCollecting keras\n",
            "  Downloading keras-2.11.0-py2.py3-none-any.whl (1.7 MB)\n",
            "\u001b[2K     \u001b[90m━━━━━━━━━━━━━━━━━━━━━━━━━━━━━━━━━━━━━━━━\u001b[0m \u001b[32m1.7/1.7 MB\u001b[0m \u001b[31m108.0 MB/s\u001b[0m eta \u001b[36m0:00:00\u001b[0m\n",
            "\u001b[?25hCollecting libclang>=13.0.0\n",
            "  Downloading libclang-15.0.6.1-py2.py3-none-manylinux2010_x86_64.whl (21.5 MB)\n",
            "\u001b[2K     \u001b[90m━━━━━━━━━━━━━━━━━━━━━━━━━━━━━━━━━━━━━━━━\u001b[0m \u001b[32m21.5/21.5 MB\u001b[0m \u001b[31m86.6 MB/s\u001b[0m eta \u001b[36m0:00:00\u001b[0m00:01\u001b[0m00:01\u001b[0m\n",
            "\u001b[?25hCollecting flatbuffers>=2.0\n",
            "  Downloading flatbuffers-23.1.21-py2.py3-none-any.whl (26 kB)\n",
            "Requirement already satisfied: setuptools in /home/gitpod/.pyenv/versions/3.8.12/lib/python3.8/site-packages (from tensorflow-cpu->-r /workspace/Detection-Cherry-Powdery-Mildew/requirements.txt (line 11)) (65.6.3)\n",
            "Requirement already satisfied: toolz in /workspace/.pip-modules/lib/python3.8/site-packages (from altair>=3.2.0->streamlit->-r /workspace/Detection-Cherry-Powdery-Mildew/requirements.txt (line 8)) (0.12.0)\n",
            "Requirement already satisfied: jsonschema>=3.0 in /home/gitpod/.pyenv/versions/3.8.12/lib/python3.8/site-packages (from altair>=3.2.0->streamlit->-r /workspace/Detection-Cherry-Powdery-Mildew/requirements.txt (line 8)) (4.17.3)\n",
            "Requirement already satisfied: jinja2 in /home/gitpod/.pyenv/versions/3.8.12/lib/python3.8/site-packages (from altair>=3.2.0->streamlit->-r /workspace/Detection-Cherry-Powdery-Mildew/requirements.txt (line 8)) (3.1.2)\n",
            "Requirement already satisfied: entrypoints in /home/gitpod/.pyenv/versions/3.8.12/lib/python3.8/site-packages (from altair>=3.2.0->streamlit->-r /workspace/Detection-Cherry-Powdery-Mildew/requirements.txt (line 8)) (0.4)\n",
            "Requirement already satisfied: gitdb<5,>=4.0.1 in /home/gitpod/.pyenv/versions/3.8.12/lib/python3.8/site-packages (from gitpython!=3.1.19->streamlit->-r /workspace/Detection-Cherry-Powdery-Mildew/requirements.txt (line 8)) (4.0.10)\n",
            "Requirement already satisfied: zipp>=0.5 in /home/gitpod/.pyenv/versions/3.8.12/lib/python3.8/site-packages (from importlib-metadata>=1.4->streamlit->-r /workspace/Detection-Cherry-Powdery-Mildew/requirements.txt (line 8)) (3.11.0)\n",
            "Requirement already satisfied: urllib3<1.27,>=1.21.1 in /home/gitpod/.pyenv/versions/3.8.12/lib/python3.8/site-packages (from requests>=2.4->streamlit->-r /workspace/Detection-Cherry-Powdery-Mildew/requirements.txt (line 8)) (1.26.13)\n",
            "Requirement already satisfied: idna<4,>=2.5 in /home/gitpod/.pyenv/versions/3.8.12/lib/python3.8/site-packages (from requests>=2.4->streamlit->-r /workspace/Detection-Cherry-Powdery-Mildew/requirements.txt (line 8)) (3.4)\n",
            "Requirement already satisfied: charset-normalizer<3,>=2 in /home/gitpod/.pyenv/versions/3.8.12/lib/python3.8/site-packages (from requests>=2.4->streamlit->-r /workspace/Detection-Cherry-Powdery-Mildew/requirements.txt (line 8)) (2.1.1)\n",
            "Requirement already satisfied: commonmark<0.10.0,>=0.9.0 in /home/gitpod/.pyenv/versions/3.8.12/lib/python3.8/site-packages (from rich>=10.11.0->streamlit->-r /workspace/Detection-Cherry-Powdery-Mildew/requirements.txt (line 8)) (0.9.1)\n",
            "Requirement already satisfied: pygments<3.0.0,>=2.6.0 in /home/gitpod/.pyenv/versions/3.8.12/lib/python3.8/site-packages (from rich>=10.11.0->streamlit->-r /workspace/Detection-Cherry-Powdery-Mildew/requirements.txt (line 8)) (2.14.0)\n",
            "Requirement already satisfied: werkzeug>=1.0.1 in /workspace/.pip-modules/lib/python3.8/site-packages (from tensorboard~=2.6->tensorflow-cpu->-r /workspace/Detection-Cherry-Powdery-Mildew/requirements.txt (line 11)) (2.2.2)\n",
            "Requirement already satisfied: tensorboard-data-server<0.7.0,>=0.6.0 in /workspace/.pip-modules/lib/python3.8/site-packages (from tensorboard~=2.6->tensorflow-cpu->-r /workspace/Detection-Cherry-Powdery-Mildew/requirements.txt (line 11)) (0.6.1)\n",
            "Requirement already satisfied: markdown>=2.6.8 in /workspace/.pip-modules/lib/python3.8/site-packages (from tensorboard~=2.6->tensorflow-cpu->-r /workspace/Detection-Cherry-Powdery-Mildew/requirements.txt (line 11)) (3.4.1)\n",
            "Requirement already satisfied: tensorboard-plugin-wit>=1.6.0 in /workspace/.pip-modules/lib/python3.8/site-packages (from tensorboard~=2.6->tensorflow-cpu->-r /workspace/Detection-Cherry-Powdery-Mildew/requirements.txt (line 11)) (1.8.1)\n",
            "Requirement already satisfied: google-auth<3,>=1.6.3 in /workspace/.pip-modules/lib/python3.8/site-packages (from tensorboard~=2.6->tensorflow-cpu->-r /workspace/Detection-Cherry-Powdery-Mildew/requirements.txt (line 11)) (2.15.0)\n",
            "Requirement already satisfied: google-auth-oauthlib<0.5,>=0.4.1 in /workspace/.pip-modules/lib/python3.8/site-packages (from tensorboard~=2.6->tensorflow-cpu->-r /workspace/Detection-Cherry-Powdery-Mildew/requirements.txt (line 11)) (0.4.6)\n",
            "Requirement already satisfied: pytz-deprecation-shim in /workspace/.pip-modules/lib/python3.8/site-packages (from tzlocal>=1.1->streamlit->-r /workspace/Detection-Cherry-Powdery-Mildew/requirements.txt (line 8)) (0.1.0.post0)\n",
            "Requirement already satisfied: backports.zoneinfo in /workspace/.pip-modules/lib/python3.8/site-packages (from tzlocal>=1.1->streamlit->-r /workspace/Detection-Cherry-Powdery-Mildew/requirements.txt (line 8)) (0.2.1)\n",
            "Requirement already satisfied: decorator>=3.4.0 in /home/gitpod/.pyenv/versions/3.8.12/lib/python3.8/site-packages (from validators>=0.2->streamlit->-r /workspace/Detection-Cherry-Powdery-Mildew/requirements.txt (line 8)) (5.1.1)\n",
            "Requirement already satisfied: smmap<6,>=3.0.1 in /home/gitpod/.pyenv/versions/3.8.12/lib/python3.8/site-packages (from gitdb<5,>=4.0.1->gitpython!=3.1.19->streamlit->-r /workspace/Detection-Cherry-Powdery-Mildew/requirements.txt (line 8)) (5.0.0)\n",
            "Requirement already satisfied: pyasn1-modules>=0.2.1 in /workspace/.pip-modules/lib/python3.8/site-packages (from google-auth<3,>=1.6.3->tensorboard~=2.6->tensorflow-cpu->-r /workspace/Detection-Cherry-Powdery-Mildew/requirements.txt (line 11)) (0.2.8)\n",
            "Requirement already satisfied: rsa<5,>=3.1.4 in /workspace/.pip-modules/lib/python3.8/site-packages (from google-auth<3,>=1.6.3->tensorboard~=2.6->tensorflow-cpu->-r /workspace/Detection-Cherry-Powdery-Mildew/requirements.txt (line 11)) (4.9)\n",
            "Requirement already satisfied: requests-oauthlib>=0.7.0 in /workspace/.pip-modules/lib/python3.8/site-packages (from google-auth-oauthlib<0.5,>=0.4.1->tensorboard~=2.6->tensorflow-cpu->-r /workspace/Detection-Cherry-Powdery-Mildew/requirements.txt (line 11)) (1.3.1)\n",
            "Requirement already satisfied: MarkupSafe>=2.0 in /home/gitpod/.pyenv/versions/3.8.12/lib/python3.8/site-packages (from jinja2->altair>=3.2.0->streamlit->-r /workspace/Detection-Cherry-Powdery-Mildew/requirements.txt (line 8)) (2.1.1)\n",
            "Requirement already satisfied: pyrsistent!=0.17.0,!=0.17.1,!=0.17.2,>=0.14.0 in /home/gitpod/.pyenv/versions/3.8.12/lib/python3.8/site-packages (from jsonschema>=3.0->altair>=3.2.0->streamlit->-r /workspace/Detection-Cherry-Powdery-Mildew/requirements.txt (line 8)) (0.19.3)\n",
            "Requirement already satisfied: importlib-resources>=1.4.0 in /home/gitpod/.pyenv/versions/3.8.12/lib/python3.8/site-packages (from jsonschema>=3.0->altair>=3.2.0->streamlit->-r /workspace/Detection-Cherry-Powdery-Mildew/requirements.txt (line 8)) (5.10.2)\n",
            "Requirement already satisfied: attrs>=17.4.0 in /home/gitpod/.pyenv/versions/3.8.12/lib/python3.8/site-packages (from jsonschema>=3.0->altair>=3.2.0->streamlit->-r /workspace/Detection-Cherry-Powdery-Mildew/requirements.txt (line 8)) (22.2.0)\n",
            "Requirement already satisfied: pkgutil-resolve-name>=1.3.10 in /home/gitpod/.pyenv/versions/3.8.12/lib/python3.8/site-packages (from jsonschema>=3.0->altair>=3.2.0->streamlit->-r /workspace/Detection-Cherry-Powdery-Mildew/requirements.txt (line 8)) (1.3.10)\n",
            "Requirement already satisfied: tzdata in /workspace/.pip-modules/lib/python3.8/site-packages (from pytz-deprecation-shim->tzlocal>=1.1->streamlit->-r /workspace/Detection-Cherry-Powdery-Mildew/requirements.txt (line 8)) (2022.7)\n",
            "Requirement already satisfied: pyasn1<0.5.0,>=0.4.6 in /workspace/.pip-modules/lib/python3.8/site-packages (from pyasn1-modules>=0.2.1->google-auth<3,>=1.6.3->tensorboard~=2.6->tensorflow-cpu->-r /workspace/Detection-Cherry-Powdery-Mildew/requirements.txt (line 11)) (0.4.8)\n",
            "Requirement already satisfied: oauthlib>=3.0.0 in /workspace/.pip-modules/lib/python3.8/site-packages (from requests-oauthlib>=0.7.0->google-auth-oauthlib<0.5,>=0.4.1->tensorboard~=2.6->tensorflow-cpu->-r /workspace/Detection-Cherry-Powdery-Mildew/requirements.txt (line 11)) (3.2.2)\n",
            "Installing collected packages: libclang, flatbuffers, tensorflow-io-gcs-filesystem, protobuf, numpy, keras, absl-py, tensorflow-cpu\n",
            "  Attempting uninstall: flatbuffers\n",
            "    Found existing installation: flatbuffers 1.12\n",
            "    Uninstalling flatbuffers-1.12:\n",
            "      Successfully uninstalled flatbuffers-1.12\n",
            "  Attempting uninstall: protobuf\n",
            "    Found existing installation: protobuf 3.20.3\n",
            "    Uninstalling protobuf-3.20.3:\n",
            "      Successfully uninstalled protobuf-3.20.3\n",
            "  Attempting uninstall: numpy\n",
            "    Found existing installation: numpy 1.19.2\n",
            "    Uninstalling numpy-1.19.2:\n",
            "      Successfully uninstalled numpy-1.19.2\n",
            "  Attempting uninstall: keras\n",
            "    Found existing installation: keras 2.6.0\n",
            "    Uninstalling keras-2.6.0:\n",
            "      Successfully uninstalled keras-2.6.0\n",
            "  Attempting uninstall: absl-py\n",
            "    Found existing installation: absl-py 0.15.0\n",
            "    Uninstalling absl-py-0.15.0:\n",
            "      Successfully uninstalled absl-py-0.15.0\n",
            "  Attempting uninstall: tensorflow-cpu\n",
            "    Found existing installation: tensorflow-cpu 2.6.0\n",
            "    Uninstalling tensorflow-cpu-2.6.0:\n",
            "      Successfully uninstalled tensorflow-cpu-2.6.0\n",
            "Successfully installed absl-py-1.4.0 flatbuffers-23.1.21 keras-2.11.0 libclang-15.0.6.1 numpy-1.24.2 protobuf-3.19.6 tensorflow-cpu-2.11.0 tensorflow-io-gcs-filesystem-0.30.0\n"
          ]
        }
      ],
      "source": [
        "! pip install -r /workspace/Detection-Cherry-Powdery-Mildew/requirements.txt"
      ]
    },
    {
      "cell_type": "code",
      "execution_count": 2,
      "metadata": {},
      "outputs": [],
      "source": [
        "import numpy\n",
        "import os"
      ]
    },
    {
      "cell_type": "markdown",
      "metadata": {
        "id": "cqP-UeN-z3i2"
      },
      "source": [
        "# Change working directory"
      ]
    },
    {
      "attachments": {},
      "cell_type": "markdown",
      "metadata": {},
      "source": [
        "* The notebooks are in a subfolder of this directory, therefore when running the notebook in the editor, it's necessary to change the working directory"
      ]
    },
    {
      "attachments": {},
      "cell_type": "markdown",
      "metadata": {
        "id": "aOGIGS-uz3i2"
      },
      "source": [
        "Change the working directory from its current folder to its parent folder"
      ]
    },
    {
      "cell_type": "code",
      "execution_count": 3,
      "metadata": {
        "id": "wZfF_j-Bz3i4",
        "outputId": "66943449-1436-4c3d-85c7-b85f9f78349b"
      },
      "outputs": [
        {
          "data": {
            "text/plain": [
              "'/workspace/Detection-Cherry-Powdery-Mildew/jupyter_notebooks'"
            ]
          },
          "execution_count": 3,
          "metadata": {},
          "output_type": "execute_result"
        }
      ],
      "source": [
        "current_dir = os.getcwd()\n",
        "current_dir"
      ]
    },
    {
      "attachments": {},
      "cell_type": "markdown",
      "metadata": {
        "id": "9MWW8E7lz3i7"
      },
      "source": [
        "Parent of the current becomes the new current directory"
      ]
    },
    {
      "cell_type": "code",
      "execution_count": 4,
      "metadata": {
        "id": "TwHsQRWjz3i9",
        "outputId": "86849db3-cd2f-4cc5-ebb8-2d0caafa1a2c"
      },
      "outputs": [
        {
          "name": "stdout",
          "output_type": "stream",
          "text": [
            "You set a new current directory\n"
          ]
        }
      ],
      "source": [
        "os.chdir('/workspace/Detection-Cherry-Powdery-Mildew')\n",
        "print(\"You set a new current directory\")"
      ]
    },
    {
      "cell_type": "markdown",
      "metadata": {
        "id": "M_xPk_Ijz3i-"
      },
      "source": [
        "Confirm the new current directory"
      ]
    },
    {
      "cell_type": "code",
      "execution_count": 5,
      "metadata": {
        "id": "vz3S-_kjz3jA",
        "outputId": "00b79ae4-75d0-4a96-d193-ac9ef9847ea2"
      },
      "outputs": [
        {
          "data": {
            "text/plain": [
              "'/workspace/Detection-Cherry-Powdery-Mildew'"
            ]
          },
          "execution_count": 5,
          "metadata": {},
          "output_type": "execute_result"
        }
      ],
      "source": [
        "current_dir = os.getcwd()\n",
        "current_dir"
      ]
    },
    {
      "attachments": {},
      "cell_type": "markdown",
      "metadata": {},
      "source": [
        "# Install Kaggle"
      ]
    },
    {
      "cell_type": "code",
      "execution_count": 6,
      "metadata": {},
      "outputs": [
        {
          "name": "stdout",
          "output_type": "stream",
          "text": [
            "Requirement already satisfied: kaggle in /workspace/.pip-modules/lib/python3.8/site-packages (1.5.12)\n",
            "Requirement already satisfied: six>=1.10 in /workspace/.pip-modules/lib/python3.8/site-packages (from kaggle) (1.15.0)\n",
            "Requirement already satisfied: tqdm in /workspace/.pip-modules/lib/python3.8/site-packages (from kaggle) (4.64.1)\n",
            "Requirement already satisfied: python-slugify in /workspace/.pip-modules/lib/python3.8/site-packages (from kaggle) (7.0.0)\n",
            "Requirement already satisfied: urllib3 in /home/gitpod/.pyenv/versions/3.8.12/lib/python3.8/site-packages (from kaggle) (1.26.13)\n",
            "Requirement already satisfied: python-dateutil in /home/gitpod/.pyenv/versions/3.8.12/lib/python3.8/site-packages (from kaggle) (2.8.2)\n",
            "Requirement already satisfied: requests in /home/gitpod/.pyenv/versions/3.8.12/lib/python3.8/site-packages (from kaggle) (2.28.1)\n",
            "Requirement already satisfied: certifi in /home/gitpod/.pyenv/versions/3.8.12/lib/python3.8/site-packages (from kaggle) (2022.12.7)\n",
            "Requirement already satisfied: text-unidecode>=1.3 in /workspace/.pip-modules/lib/python3.8/site-packages (from python-slugify->kaggle) (1.3)\n",
            "Requirement already satisfied: idna<4,>=2.5 in /home/gitpod/.pyenv/versions/3.8.12/lib/python3.8/site-packages (from requests->kaggle) (3.4)\n",
            "Requirement already satisfied: charset-normalizer<3,>=2 in /home/gitpod/.pyenv/versions/3.8.12/lib/python3.8/site-packages (from requests->kaggle) (2.1.1)\n",
            "Note: you may need to restart the kernel to use updated packages.\n"
          ]
        }
      ],
      "source": [
        "pip install kaggle"
      ]
    },
    {
      "attachments": {},
      "cell_type": "markdown",
      "metadata": {},
      "source": [
        "Change the Kaggle configuration directory to the current working directory and set permissions for the Kaggle authentication JSON"
      ]
    },
    {
      "cell_type": "code",
      "execution_count": 7,
      "metadata": {},
      "outputs": [],
      "source": [
        "os.environ['KAGGLE_CONFIG_DIR'] = os.getcwd()\n",
        "! chmod 600 kaggle.json"
      ]
    },
    {
      "attachments": {},
      "cell_type": "markdown",
      "metadata": {},
      "source": [
        "Set the kaggle dataset and download it"
      ]
    },
    {
      "cell_type": "code",
      "execution_count": 8,
      "metadata": {},
      "outputs": [
        {
          "name": "stdout",
          "output_type": "stream",
          "text": [
            "Downloading cherry-leaves.zip to inputs/cherryleaves_dataset\n",
            " 93%|███████████████████████████████████▏  | 51.0M/55.0M [00:01<00:00, 43.9MB/s]\n",
            "100%|██████████████████████████████████████| 55.0M/55.0M [00:01<00:00, 32.2MB/s]\n"
          ]
        }
      ],
      "source": [
        "KaggleDatasetPath = \"codeinstitute/cherry-leaves\"\n",
        "DestinationFolder = \"inputs/cherryleaves_dataset\"   \n",
        "! kaggle datasets download -d {KaggleDatasetPath} -p {DestinationFolder}"
      ]
    },
    {
      "attachments": {},
      "cell_type": "markdown",
      "metadata": {},
      "source": [
        "Unzip the dowloaded file and delete the zip file"
      ]
    },
    {
      "cell_type": "code",
      "execution_count": 9,
      "metadata": {},
      "outputs": [],
      "source": [
        "import zipfile\n",
        "with zipfile.ZipFile(DestinationFolder + '/cherry-leaves.zip', 'r') as zip_ref:\n",
        "    zip_ref.extractall(DestinationFolder)\n",
        "\n",
        "os.remove(DestinationFolder + '/cherry-leaves.zip')"
      ]
    },
    {
      "cell_type": "markdown",
      "metadata": {
        "id": "ZY3l0-AxO93d"
      },
      "source": [
        "---"
      ]
    },
    {
      "attachments": {},
      "cell_type": "markdown",
      "metadata": {
        "id": "uFQo3ycuO-v6"
      },
      "source": [
        "# Data Preparation"
      ]
    },
    {
      "cell_type": "markdown",
      "metadata": {},
      "source": [
        "---"
      ]
    },
    {
      "attachments": {},
      "cell_type": "markdown",
      "metadata": {},
      "source": [
        "## Data Cleaning"
      ]
    },
    {
      "attachments": {},
      "cell_type": "markdown",
      "metadata": {},
      "source": [
        "Check and remove all non-image files"
      ]
    },
    {
      "cell_type": "code",
      "execution_count": 10,
      "metadata": {},
      "outputs": [],
      "source": [
        "def remove_non_image_file(my_data_dir):\n",
        "    image_extension = ('.png', '.jpg', '.jpeg')\n",
        "    folders = os.listdir(my_data_dir)\n",
        "    for folder in folders:\n",
        "        files = os.listdir(my_data_dir + '/' + folder)\n",
        "        # print(files)\n",
        "        i = []\n",
        "        j = []\n",
        "        for given_file in files:\n",
        "            if not given_file.lower().endswith(image_extension):\n",
        "                file_location = my_data_dir + '/' + folder + '/' + given_file\n",
        "                os.remove(file_location)  # remove non image file\n",
        "                i.append(1)\n",
        "            else:\n",
        "                j.append(1)\n",
        "                pass\n",
        "        print(f\"Folder: {folder} - has image file\", len(j))\n",
        "        print(f\"Folder: {folder} - has non-image file\", len(i))"
      ]
    },
    {
      "cell_type": "code",
      "execution_count": 11,
      "metadata": {},
      "outputs": [
        {
          "name": "stdout",
          "output_type": "stream",
          "text": [
            "Folder: healthy - has image file 2104\n",
            "Folder: healthy - has non-image file 0\n",
            "Folder: powdery_mildew - has image file 2104\n",
            "Folder: powdery_mildew - has non-image file 0\n"
          ]
        }
      ],
      "source": [
        "remove_non_image_file(my_data_dir='inputs/cherryleaves_dataset/cherry-leaves')"
      ]
    },
    {
      "attachments": {},
      "cell_type": "markdown",
      "metadata": {},
      "source": [
        "## Split train validation test set"
      ]
    },
    {
      "cell_type": "code",
      "execution_count": 12,
      "metadata": {},
      "outputs": [],
      "source": [
        "import os\n",
        "import shutil\n",
        "import random\n",
        "import joblib\n",
        "\n",
        "\n",
        "def split_train_validation_test_images(my_data_dir, train_set_ratio, validation_set_ratio, test_set_ratio):\n",
        "\n",
        "    if train_set_ratio + validation_set_ratio + test_set_ratio != 1.0:\n",
        "        print(\"train_set_ratio + validation_set_ratio + test_set_ratio should sum to 1.0\")\n",
        "        return\n",
        "\n",
        "    # gets classes labels\n",
        "    labels = os.listdir(my_data_dir)  # it should get only the folder name\n",
        "    if 'test' in labels:\n",
        "        pass\n",
        "    else:\n",
        "        # create train, test folders with classes labels sub-folder\n",
        "        for folder in ['train', 'validation', 'test']:\n",
        "            for label in labels:\n",
        "                os.makedirs(name=my_data_dir + '/' + folder + '/' + label)\n",
        "\n",
        "        for label in labels:\n",
        "\n",
        "            files = os.listdir(my_data_dir + '/' + label)\n",
        "            random.shuffle(files)\n",
        "\n",
        "            train_set_files_qty = int(len(files) * train_set_ratio)\n",
        "            validation_set_files_qty = int(len(files) * validation_set_ratio)\n",
        "\n",
        "            count = 1\n",
        "            for file_name in files:\n",
        "                if count <= train_set_files_qty:\n",
        "                    # move a given file to the train set\n",
        "                    shutil.move(my_data_dir + '/' + label + '/' + file_name,\n",
        "                                my_data_dir + '/train/' + label + '/' + file_name)\n",
        "\n",
        "                elif count <= (train_set_files_qty + validation_set_files_qty):\n",
        "                    # move a given file to the validation set\n",
        "                    shutil.move(my_data_dir + '/' + label + '/' + file_name,\n",
        "                                my_data_dir + '/validation/' + label + '/' + file_name)\n",
        "\n",
        "                else:\n",
        "                    # move given file to test set\n",
        "                    shutil.move(my_data_dir + '/' + label + '/' + file_name,\n",
        "                                my_data_dir + '/test/' + label + '/' + file_name)\n",
        "\n",
        "                count += 1\n",
        "\n",
        "            os.rmdir(my_data_dir + '/' + label)"
      ]
    },
    {
      "attachments": {},
      "cell_type": "markdown",
      "metadata": {},
      "source": [
        "* The training set is divided into a 0.70 ratio of data.\n",
        "* The validation set is divided into a 0.10 ratio of data.\n",
        "* The test set is divided into a 0.20 ratio of data."
      ]
    },
    {
      "cell_type": "code",
      "execution_count": 13,
      "metadata": {},
      "outputs": [],
      "source": [
        "split_train_validation_test_images(my_data_dir=f\"inputs/cherryleaves_dataset/cherry-leaves\",\n",
        "                                   train_set_ratio=0.7,\n",
        "                                   validation_set_ratio=0.1,\n",
        "                                   test_set_ratio=0.2\n",
        "                                   )"
      ]
    },
    {
      "cell_type": "markdown",
      "metadata": {},
      "source": [
        "---"
      ]
    },
    {
      "cell_type": "markdown",
      "metadata": {
        "id": "ltNetd085qHf"
      },
      "source": [
        "# Push files to Repo"
      ]
    },
    {
      "cell_type": "markdown",
      "metadata": {},
      "source": [
        "If necessary, uncomment code"
      ]
    },
    {
      "cell_type": "code",
      "execution_count": 14,
      "metadata": {
        "id": "aKlnIozA4eQO",
        "outputId": "fd09bc1f-adb1-4511-f6ce-492a6af570c0"
      },
      "outputs": [],
      "source": [
        "# import os\n",
        "# try:\n",
        "#     # create here your folder\n",
        "#     # os.makedirs(name='')\n",
        "# except Exception as e:\n",
        "#     print(e)\n"
      ]
    }
  ],
  "metadata": {
    "accelerator": "GPU",
    "colab": {
      "name": "Data Practitioner Jupyter Notebook.ipynb",
      "provenance": [],
      "toc_visible": true
    },
    "interpreter": {
      "hash": "8b8334dab9339717f727a1deaf837b322d7a41c20d15cc86be99a8e69ceec8ce"
    },
    "kernelspec": {
      "display_name": "Python 3.8.12 64-bit ('3.8.12': pyenv)",
      "name": "python3"
    },
    "language_info": {
      "codemirror_mode": {
        "name": "ipython",
        "version": 3
      },
      "file_extension": ".py",
      "mimetype": "text/x-python",
      "name": "python",
      "nbconvert_exporter": "python",
      "pygments_lexer": "ipython3",
      "version": "3.8.12 (default, Jan  7 2023, 09:25:13) \n[GCC 9.4.0]"
    },
    "orig_nbformat": 2
  },
  "nbformat": 4,
  "nbformat_minor": 2
}
